{
 "cells": [
  {
   "cell_type": "markdown",
   "id": "ab108c01",
   "metadata": {},
   "source": [
    "### Model without any flexibility"
   ]
  },
  {
   "cell_type": "code",
   "execution_count": 2,
   "id": "1f3f3ec8",
   "metadata": {},
   "outputs": [
    {
     "name": "stderr",
     "output_type": "stream",
     "text": [
      "Warning message:\n",
      "“package ‘ggplot2’ was built under R version 4.1.1”\n"
     ]
    }
   ],
   "source": [
    "library(statsecol)\n",
    "library(ggplot2)\n",
    "data(wildebeest)"
   ]
  },
  {
   "cell_type": "code",
   "execution_count": 3,
   "id": "e32740f7",
   "metadata": {},
   "outputs": [],
   "source": [
    "logistic_nll <- function(pars,years,removals, Nhat, SEhat){\n",
    "  #parameter set up\n",
    "  N0 <- exp(pars[1])\n",
    "  r <- exp(pars[2])\n",
    "  k <- exp(pars[3])\n",
    "  N <- numeric(years)\n",
    "  N[1] <- N0\n",
    "  \n",
    "  #generate population dynamics:\n",
    "  for(i in 2:years){\n",
    "    N[i]=N[i-1] + r * N[i-1] * (1 - N[i-1] / k) - removals[i-1]\n",
    "  }\n",
    "  \n",
    "  #calculate the NEGATIVE LOG likelihood\n",
    "  # - calculate the Log Lik for each value (dnorm())\n",
    "  # - sum them up (sum(dnorm()))\n",
    "  # - take the negative of the sum of the Log Likelihoods (-sum(dnorm()))\n",
    "  \n",
    "  negloglik <- -sum(dnorm(Nhat,N,SEhat, log=TRUE), na.rm=TRUE)\n",
    "  \n",
    "  #return the negative log likelihood \n",
    "  return(negloglik)\n",
    "}\n",
    "\n",
    "#use guesses as starting values\n",
    "N0 <- log(0.1)\n",
    "r <- log(0.25)\n",
    "k <-  log(1.5)\n",
    "pars <- c(N0,r,k)\n",
    "logistic_fit <- optim(\n",
    "    par = pars,                 #initial parameter vector\n",
    "    fn = logistic_nll,          #the function to me minimizes\n",
    "    years = nrow(wildebeest),   #\\\n",
    "    removals = wildebeest$Catch,# \\\n",
    "    Nhat = wildebeest$Nhat,     #  \\\n",
    "    SEhat = wildebeest$sehat)   #   \\->arguments passed to 'fn'"
   ]
  },
  {
   "cell_type": "markdown",
   "id": "0873fccc",
   "metadata": {},
   "source": [
    "### Model with carrying capacity K set as an exponential function of rain"
   ]
  },
  {
   "cell_type": "code",
   "execution_count": 4,
   "id": "47b45d58",
   "metadata": {},
   "outputs": [],
   "source": [
    "rainK_nll <- function(pars, years, removals, Nhat, SEhat, rain){\n",
    "  #parameter set up\n",
    "  N0 <- exp(pars[1])\n",
    "  r <- exp(pars[2])\n",
    "  beta0 <- pars[3]   #not transformed |\n",
    "  beta1 <- pars[4]   #not transformed |-> note extra parameter now\n",
    "  N <- numeric(years)\n",
    "  k <- numeric(years)\n",
    "  N[1] <- N0\n",
    "  k[1] <- NA #1st K not in the model \n",
    "  \n",
    "  #generate population dynamics:\n",
    "  for(i in 2:years){\n",
    "    k[i] <- exp(beta0 + beta1*rain[i]) #link fn of the linear predictor \n",
    "    N[i]=N[i-1] + r * N[i-1] * (1-N[i-1]/k[i]) - removals[i-1]\n",
    "  }\n",
    "  \n",
    "  #calculate the NEGATIVE LOG likelihood\n",
    "  # - calculate the Log Lik for each value (dnorm())\n",
    "  # - sum them up (sum(dnorm()))\n",
    "  # - take the negative of the sum of the Log Likelihoods (-sum(dnorm()))\n",
    "  \n",
    "  negloglik <- -sum(dnorm(Nhat,N,SEhat, log=TRUE), na.rm=TRUE)\n",
    "  \n",
    "  #return the negative log likelihood \n",
    "  return(negloglik)\n",
    "}\n",
    "\n",
    "N0 <- log(0.1)\n",
    "r <- log(0.25)\n",
    "beta0 <-  log(1.5)   #previous value\n",
    "beta1 <-  0          #no effect\n",
    "\n",
    "pars_rain <- c(N0,r,beta0,beta1)\n",
    "rain_fit <- optim(\n",
    "    par = pars_rain,\n",
    "    fn = rainK_nll,\n",
    "    years = nrow(wildebeest), \n",
    "    removals = wildebeest$Catch,\n",
    "    Nhat = wildebeest$Nhat,\n",
    "    SEhat = wildebeest$sehat,\n",
    "    rain = wildebeest$rain\n",
    ")"
   ]
  },
  {
   "cell_type": "markdown",
   "id": "7b4b7a84",
   "metadata": {},
   "source": [
    "### Model growth rate as a function of rain"
   ]
  },
  {
   "cell_type": "code",
   "execution_count": 32,
   "id": "c934b114",
   "metadata": {},
   "outputs": [],
   "source": [
    "growth_rate_nll <- function(pars, years, removals, Nhat, SEhat, rain){\n",
    "  #parameter set up\n",
    "  N0 <- exp(pars[1])\n",
    "  K <- exp(pars[2])\n",
    "  beta0 <- pars[3]   #not transformed |\n",
    "  beta1 <- pars[4]   #not transformed |-> note extra parameter now\n",
    "  N <- numeric(years)\n",
    "  r <- numeric(years)\n",
    "  N[1] <- N0\n",
    "  r[1] <- NA #1st K not in the model \n",
    "  \n",
    "  #generate population dynamics:\n",
    "  for(i in 2:years){\n",
    "    r[i] <- exp(beta0 + beta1*rain[i]) #link fn of the linear predictor \n",
    "    N[i]=N[i-1] + r[i] * N[i-1] * (1-N[i-1]/K) - removals[i-1]\n",
    "  }\n",
    "  \n",
    "  #calculate the NEGATIVE LOG likelihood\n",
    "  # - calculate the Log Lik for each value (dnorm())\n",
    "  # - sum them up (sum(dnorm()))\n",
    "  # - take the negative of the sum of the Log Likelihoods (-sum(dnorm()))\n",
    "  \n",
    "  negloglik <- -sum(dnorm(Nhat,N,SEhat, log=TRUE), na.rm=TRUE)\n",
    "  \n",
    "  #return the negative log likelihood \n",
    "  return(negloglik)\n",
    "}\n",
    "\n",
    "N0 <- log(0.1)\n",
    "K <-  log(1.5)\n",
    "beta0 <-  log(1.5)   #previous value\n",
    "beta1 <-  0          #no effect\n",
    "\n",
    "pars_growth <- c(N0,K,beta0,beta1)\n",
    "growth_rate_fit <- optim(\n",
    "    par = pars_rain,\n",
    "    fn = growth_rate_nll,\n",
    "    years = nrow(wildebeest), \n",
    "    removals = wildebeest$Catch,\n",
    "    Nhat = wildebeest$Nhat,\n",
    "    SEhat = wildebeest$sehat,\n",
    "    rain = wildebeest$rain\n",
    ")\n",
    "\n"
   ]
  },
  {
   "cell_type": "markdown",
   "id": "72b625de",
   "metadata": {},
   "source": [
    "### Model both carrying capacity and growth rate as a function of rain"
   ]
  },
  {
   "cell_type": "code",
   "execution_count": 41,
   "id": "e6d3d4c2",
   "metadata": {},
   "outputs": [],
   "source": [
    "multiple_nll <- function(pars, years, removals, Nhat, SEhat, rain){\n",
    "  #parameter set up\n",
    "  N0 <- exp(pars[1])\n",
    "  a0 <- pars[2]   #not transformed |\n",
    "  a1 <- pars[3]   #not transformed |-> note extra parameter now\n",
    "  b0 <- pars[4]\n",
    "  b1 <- pars[5]\n",
    "  N <- numeric(years)\n",
    "  k <- numeric(years)\n",
    "  r <- numeric(years)\n",
    "  \n",
    "  N[1] <- N0\n",
    "  r[1] <- NA #1st K not in the model \n",
    "  k[1] <- NA\n",
    "    \n",
    "  #generate population dynamics:\n",
    "  for(i in 2:years){\n",
    "    r[i] <- exp(a0 + a1*rain[i]) #link fn of the linear predictor \n",
    "    k[i] <- exp(b0 + b1*rain[i]) \n",
    "    N[i]=N[i-1] + r[i] * N[i-1] * (1-N[i-1]/k[i]) - removals[i-1]\n",
    "  }\n",
    "  \n",
    "  #calculate the NEGATIVE LOG likelihood\n",
    "  # - calculate the Log Lik for each value (dnorm())\n",
    "  # - sum them up (sum(dnorm()))\n",
    "  # - take the negative of the sum of the Log Likelihoods (-sum(dnorm()))\n",
    "  \n",
    "  negloglik <- -sum(dnorm(Nhat,N,SEhat, log=TRUE), na.rm=TRUE)\n",
    "  \n",
    "  #return the negative log likelihood \n",
    "  return(negloglik)\n",
    "}\n",
    "\n",
    "N0 <- log(0.1)\n",
    "a0 <-  log(1.5)   #previous value\n",
    "a1 <-  0          #no effect\n",
    "b0 <-  log(1.5)   #previous value\n",
    "b1 <-  0          #no effect\n",
    "\n",
    "pars_multiple <- c(N0, a0, a1, b0, b1)\n",
    "multiple_fit <- optim(\n",
    "    par = pars_multiple,\n",
    "    fn = multiple_nll,\n",
    "    years = nrow(wildebeest), \n",
    "    removals = wildebeest$Catch,\n",
    "    Nhat = wildebeest$Nhat,\n",
    "    SEhat = wildebeest$sehat,\n",
    "    rain = wildebeest$rain\n",
    ")\n"
   ]
  },
  {
   "cell_type": "markdown",
   "id": "927254ff",
   "metadata": {},
   "source": [
    "### AIC for the 4 models"
   ]
  },
  {
   "cell_type": "code",
   "execution_count": 42,
   "id": "8828572b",
   "metadata": {},
   "outputs": [],
   "source": [
    "logistic_K = length(pars)\n",
    "logistic_AIC = 2 * logistic_K + 2 * logistic_fit$value\n",
    "\n",
    "rain_K = length(pars_rain)\n",
    "rain_AIC = 2 * rain_K + 2 * rain_fit$value\n",
    "\n",
    "growth_K = length(pars_growth)\n",
    "growth_AIC = 2 * growth_K + 2 * growth_rate_fit$value\n",
    "\n",
    "multiple_K = length(pars_multiple)\n",
    "multiple_AIC  = 2 * multiple_K + 2 * multiple_fit$value\n",
    " "
   ]
  },
  {
   "cell_type": "code",
   "execution_count": 43,
   "id": "826407b3",
   "metadata": {},
   "outputs": [
    {
     "data": {
      "text/html": [
       "<table class=\"dataframe\">\n",
       "<caption>A data.frame: 4 × 5</caption>\n",
       "<thead>\n",
       "\t<tr><th scope=col>Model</th><th scope=col>K</th><th scope=col>nll</th><th scope=col>AIC</th><th scope=col>dAIC</th></tr>\n",
       "\t<tr><th scope=col>&lt;chr&gt;</th><th scope=col>&lt;int&gt;</th><th scope=col>&lt;dbl&gt;</th><th scope=col>&lt;dbl&gt;</th><th scope=col>&lt;dbl&gt;</th></tr>\n",
       "</thead>\n",
       "<tbody>\n",
       "\t<tr><td>logistic</td><td>3</td><td>-12.54118</td><td>-19.08236</td><td> 0.9042661</td></tr>\n",
       "\t<tr><td>rain    </td><td>4</td><td>-13.99331</td><td>-19.98662</td><td> 0.0000000</td></tr>\n",
       "\t<tr><td>growth  </td><td>4</td><td>-11.15333</td><td>-14.30667</td><td> 5.6799578</td></tr>\n",
       "\t<tr><td>multiple</td><td>5</td><td> 33.17592</td><td> 76.35184</td><td>96.3384641</td></tr>\n",
       "</tbody>\n",
       "</table>\n"
      ],
      "text/latex": [
       "A data.frame: 4 × 5\n",
       "\\begin{tabular}{lllll}\n",
       " Model & K & nll & AIC & dAIC\\\\\n",
       " <chr> & <int> & <dbl> & <dbl> & <dbl>\\\\\n",
       "\\hline\n",
       "\t logistic & 3 & -12.54118 & -19.08236 &  0.9042661\\\\\n",
       "\t rain     & 4 & -13.99331 & -19.98662 &  0.0000000\\\\\n",
       "\t growth   & 4 & -11.15333 & -14.30667 &  5.6799578\\\\\n",
       "\t multiple & 5 &  33.17592 &  76.35184 & 96.3384641\\\\\n",
       "\\end{tabular}\n"
      ],
      "text/markdown": [
       "\n",
       "A data.frame: 4 × 5\n",
       "\n",
       "| Model &lt;chr&gt; | K &lt;int&gt; | nll &lt;dbl&gt; | AIC &lt;dbl&gt; | dAIC &lt;dbl&gt; |\n",
       "|---|---|---|---|---|\n",
       "| logistic | 3 | -12.54118 | -19.08236 |  0.9042661 |\n",
       "| rain     | 4 | -13.99331 | -19.98662 |  0.0000000 |\n",
       "| growth   | 4 | -11.15333 | -14.30667 |  5.6799578 |\n",
       "| multiple | 5 |  33.17592 |  76.35184 | 96.3384641 |\n",
       "\n"
      ],
      "text/plain": [
       "  Model    K nll       AIC       dAIC      \n",
       "1 logistic 3 -12.54118 -19.08236  0.9042661\n",
       "2 rain     4 -13.99331 -19.98662  0.0000000\n",
       "3 growth   4 -11.15333 -14.30667  5.6799578\n",
       "4 multiple 5  33.17592  76.35184 96.3384641"
      ]
     },
     "metadata": {},
     "output_type": "display_data"
    }
   ],
   "source": [
    "data.frame(\n",
    "    Model = c(\"logistic\",\"rain\", \"growth\", \"multiple\"),\n",
    "    K = c(logistic_K, rain_K, growth_K, multiple_K),\n",
    "    nll = c(logistic_fit$value, rain_fit$value, growth_rate_fit$value, multiple_fit$value),\n",
    "    AIC = c(logistic_AIC, rain_AIC, growth_AIC, multiple_AIC),\n",
    "    dAIC = c(logistic_AIC, rain_AIC, growth_AIC, multiple_AIC)- min(c(logistic_AIC, rain_AIC, growth_AIC, multiple_AIC)))"
   ]
  },
  {
   "cell_type": "code",
   "execution_count": 44,
   "id": "5b4294a1",
   "metadata": {},
   "outputs": [
    {
     "data": {
      "text/html": [
       "<dl>\n",
       "\t<dt>$par</dt>\n",
       "\t\t<dd><style>\n",
       ".list-inline {list-style: none; margin:0; padding: 0}\n",
       ".list-inline>li {display: inline-block}\n",
       ".list-inline>li:not(:last-child)::after {content: \"\\00b7\"; padding: 0 .5ex}\n",
       "</style>\n",
       "<ol class=list-inline><li>-1.14920235386073</li><li>2.4695657356611</li><li>-2.67788790486809</li><li>0.0619949275723011</li></ol>\n",
       "</dd>\n",
       "\t<dt>$value</dt>\n",
       "\t\t<dd>-11.1533328158913</dd>\n",
       "\t<dt>$counts</dt>\n",
       "\t\t<dd><style>\n",
       ".dl-inline {width: auto; margin:0; padding: 0}\n",
       ".dl-inline>dt, .dl-inline>dd {float: none; width: auto; display: inline-block}\n",
       ".dl-inline>dt::after {content: \":\\0020\"; padding-right: .5ex}\n",
       ".dl-inline>dt:not(:first-of-type) {padding-left: .5ex}\n",
       "</style><dl class=dl-inline><dt>function</dt><dd>501</dd><dt>gradient</dt><dd>&lt;NA&gt;</dd></dl>\n",
       "</dd>\n",
       "\t<dt>$convergence</dt>\n",
       "\t\t<dd>1</dd>\n",
       "\t<dt>$message</dt>\n",
       "\t\t<dd>NULL</dd>\n",
       "</dl>\n"
      ],
      "text/latex": [
       "\\begin{description}\n",
       "\\item[\\$par] \\begin{enumerate*}\n",
       "\\item -1.14920235386073\n",
       "\\item 2.4695657356611\n",
       "\\item -2.67788790486809\n",
       "\\item 0.0619949275723011\n",
       "\\end{enumerate*}\n",
       "\n",
       "\\item[\\$value] -11.1533328158913\n",
       "\\item[\\$counts] \\begin{description*}\n",
       "\\item[function] 501\n",
       "\\item[gradient] <NA>\n",
       "\\end{description*}\n",
       "\n",
       "\\item[\\$convergence] 1\n",
       "\\item[\\$message] NULL\n",
       "\\end{description}\n"
      ],
      "text/markdown": [
       "$par\n",
       ":   1. -1.14920235386073\n",
       "2. 2.4695657356611\n",
       "3. -2.67788790486809\n",
       "4. 0.0619949275723011\n",
       "\n",
       "\n",
       "\n",
       "$value\n",
       ":   -11.1533328158913\n",
       "$counts\n",
       ":   function\n",
       ":   501gradient\n",
       ":   &lt;NA&gt;\n",
       "\n",
       "\n",
       "$convergence\n",
       ":   1\n",
       "$message\n",
       ":   NULL\n",
       "\n",
       "\n"
      ],
      "text/plain": [
       "$par\n",
       "[1] -1.14920235  2.46956574 -2.67788790  0.06199493\n",
       "\n",
       "$value\n",
       "[1] -11.15333\n",
       "\n",
       "$counts\n",
       "function gradient \n",
       "     501       NA \n",
       "\n",
       "$convergence\n",
       "[1] 1\n",
       "\n",
       "$message\n",
       "NULL\n"
      ]
     },
     "metadata": {},
     "output_type": "display_data"
    }
   ],
   "source": [
    "growth_rate_fit"
   ]
  }
 ],
 "metadata": {
  "kernelspec": {
   "display_name": "R",
   "language": "R",
   "name": "ir"
  },
  "language_info": {
   "codemirror_mode": "r",
   "file_extension": ".r",
   "mimetype": "text/x-r-source",
   "name": "R",
   "pygments_lexer": "r",
   "version": "4.1.0"
  }
 },
 "nbformat": 4,
 "nbformat_minor": 5
}
