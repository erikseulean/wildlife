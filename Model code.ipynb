{
 "cells": [
  {
   "cell_type": "markdown",
   "id": "83ab323a",
   "metadata": {},
   "source": [
    "### Model specification\n",
    "\n",
    "#### Priors: \n",
    "$$\\psi_{1} \\sim Unif(0, 1)$$\n",
    "$$\\mu \\sim Unif(-10, 10)$$\n",
    "$$\\sigma \\sim Unif(0, 5)$$\n",
    "$$b0, b1, a0, a1 \\sim \\mathcal{N}(0, 10)$$\n",
    "\n",
    "#### Linear models\n",
    "$$ log(\\frac{\\gamma}{1 - \\gamma}) = b0 + b1 * \\mathcal{C}_{i}$$\n",
    "$$ log(\\frac{\\epsilon}{1 - \\epsilon}) = b0 + b1 * \\mathcal{L}_{i} $$\n",
    "\n",
    "#### Likelihood\n",
    "$$ z_{i, t} \\sim Bern((1 - z_{i, t-1})\\gamma_{i, t-1} + z_{i, t-1}(1 - \\epsilon_{i, t-1})) $$\n",
    "$$ p_{i, t} \\sim \\mathcal{N}(\\mu, \\sigma^{2})$$\n",
    "$$ y_{i, t} \\sim Binom(\\#visits, p_{i, t} * z_{i, t})$$\n",
    "\n",
    "### Discrepancy metric - goodness of fit\n",
    "$$ \\chi^{2} = \\sum \\frac{(observed - expected)^2}{expected}$$\n",
    "Tukey-Freeman test statistic\n",
    "$$ TF = \\sum(\\sqrt{observed} - \\sqrt{expected})^2$$\n",
    "\n",
    "The ratio between the observed and simulated is computed to check if the model fits the data well."
   ]
  },
  {
   "cell_type": "markdown",
   "id": "21208c63",
   "metadata": {},
   "source": [
    "### Model in BUGS language"
   ]
  },
  {
   "cell_type": "code",
   "execution_count": null,
   "id": "7c3d8bd1",
   "metadata": {},
   "outputs": [],
   "source": [
    "sink(\"voles.txt\")\n",
    "cat(\"\n",
    "model{\n",
    "  # Prior specification\n",
    "  psi1 ~ dunif(0, 1)\n",
    "  mu ~ dunif(-10, 10)\n",
    "  sigma ~ dunif(0, 5)\n",
    "  tau <- sigma^(-2)\n",
    "  \n",
    "  # priors for the linear model\n",
    "  b0 ~ dnorm(0, 0.1)\n",
    "  b1 ~ dnorm(0, 0.1)\n",
    "  a0 ~ dnorm(0, 0.1)\n",
    "  a1 ~ dnorm(0, 0.1)\n",
    "  \n",
    "  for(site in 1:n.sites) {\n",
    "    for(year in 2:n.years) {\n",
    "      logit(gamma[site, year - 1]) <- b0 + b1 * connectivity[site]\n",
    "      logit(epsilon[site, year - 1]) <- a0 + a1 * length[site]\n",
    "    }\n",
    "  }\n",
    "   \n",
    "  # Likelihood\n",
    "  for(site in 1:n.sites){\n",
    "    z[site, 1] ~ dbern(psi1)\n",
    "    for(year in 2:n.years) {      \n",
    "      z[site, year] ~ dbern(\n",
    "        (1 - z[site, year - 1]) * gamma[site, year - 1] + z[site, year - 1] * (1 - epsilon[site, year - 1])\n",
    "      )\n",
    "    }\n",
    "  }\n",
    "\n",
    "  for(site in 1:n.sites) {\n",
    "    for(year in 1:n.years) {\n",
    "      q[site, year] ~ dnorm(mu, tau)\n",
    "      logit(p[site, year]) <- q[site, year]\n",
    "      y[site, year] ~ dbinom(p[site, year] * z[site, year], visits[site, year])\n",
    "      \n",
    "      # calculations for goodness of fit and Freeman-Tukey test\n",
    "      ysim[site, year] ~ dbin(p[site, year] * z[site, year], visits[site, year])\n",
    "      yexp[site, year] <- p[site, year] * visits[site, year] * z[site, year] + 0.001\n",
    "      x2.obs[site, year] <- pow((y[site, year] - yexp[site, year]), 2) / (yexp[site, year])    # for observed data\n",
    "      x2.sim[site, year] <- pow((ysim[site, year] - yexp[site, year]), 2) / (yexp[site, year]) # for 'ideal' data\n",
    "      ft.obs[site, year] <- pow(sqrt(y[site, year]) - sqrt(yexp[site, year]), 2)               # for observed data\n",
    "      ft.sim[site, year] <- pow(sqrt(ysim[site, year]) - sqrt(yexp[site, year]), 2)            # for 'ideal' data\n",
    "    }\n",
    "  }\n",
    "\n",
    "  Chi2.obs <- sum(x2.obs[,])\n",
    "  Chi2.sim <- sum(x2.sim[,])\n",
    "  Chi2.ratio <- x2.obs/x2.sim\n",
    "  FT.obs <- sum(ft.obs[,])\n",
    "  FT.sim <- sum(ft.sim[,])\n",
    "  FT.ratio <- FT.obs/FT.sim\n",
    "\n",
    "  for(year in 1:n.years){\n",
    "    propocc[year] <- sum(z[, year]) / n.sites\n",
    "  }\n",
    "}\n",
    "\",fill = TRUE)\n",
    "sink()"
   ]
  },
  {
   "cell_type": "markdown",
   "id": "275b23f6",
   "metadata": {},
   "source": [
    "### Model fitting"
   ]
  },
  {
   "cell_type": "code",
   "execution_count": null,
   "id": "4675b6ec",
   "metadata": {},
   "outputs": [],
   "source": [
    "visits = as.matrix(voles[,c(\"j1\", \"j2\", \"j3\", \"j4\")])\n",
    "obs = as.matrix(voles[, c(\"y1\", \"y2\", \"y3\", \"y4\")])"
   ]
  },
  {
   "cell_type": "code",
   "execution_count": null,
   "id": "667f9ef6",
   "metadata": {},
   "outputs": [],
   "source": [
    "# Bundle data\n",
    "volesdata <- list(\n",
    "    y = obs,\n",
    "    n.years = 4,\n",
    "    n.sites = nrow(voles),\n",
    "    visits = visits,\n",
    "    connectivity = voles$Connectivity,\n",
    "    length = voles$Length\n",
    ")\n",
    "\n",
    "volesinits <- function() {\n",
    "  list(psi1 = runif(1, 0, 1),\n",
    "       mu = runif(1, 0, 1),\n",
    "       sigma = runif(1, 0, 3),\n",
    "       b0 = runif(1, 0.4, 0.9),\n",
    "       b1 = runif(1, 0.4, 0.9),\n",
    "       a0 = runif(1, 0.1, 0.5),\n",
    "       a1 = runif(1, 0.7, 0.9),\n",
    "       z = ifelse(obs>0,1,0)\n",
    "       )\n",
    "}\n",
    "\n",
    "# Parameters monitored\n",
    "volesparams <- c(\"gamma\", \"epsilon\", \"p\", \"propocc\", \n",
    "                 \"Chi2.obs\", \"Chi2.sim\", \"Chi2.ratio\",\n",
    "                 \"FT.obs\", \"FT.sim\", \"FT.ratio\")\n",
    "\n",
    "# MCMC settings\n",
    "ni <- 10000\n",
    "nt <- 6\n",
    "nb <- 3000\n",
    "nc <- 3\n",
    "\n",
    "volesout <- jags(\n",
    "    data = volesdata,\n",
    "    inits = volesinits,\n",
    "    parameters.to.save = volesparams,\n",
    "    model.file = \"voles.txt\",\n",
    "    n.chains = nc,\n",
    "    n.iter = ni,\n",
    "    n.burnin = nb,\n",
    "    n.thin = nt\n",
    ")"
   ]
  },
  {
   "cell_type": "markdown",
   "id": "d1f9e312",
   "metadata": {},
   "source": [
    "### Convergence diagnostics"
   ]
  },
  {
   "cell_type": "code",
   "execution_count": null,
   "id": "8b00f8cf",
   "metadata": {},
   "outputs": [],
   "source": [
    "MCMCtrace(\n",
    "    volesout,                 #the fitted model\n",
    "    params = volesparams[3],  #core model parameters\n",
    "    iter = ni,                #plot all iterations\n",
    "    pdf = FALSE,              #DON'T write to a PDF\n",
    "    type = \"density\",\n",
    "    ind=TRUE\n",
    ")"
   ]
  },
  {
   "cell_type": "code",
   "execution_count": null,
   "id": "e2ab08da",
   "metadata": {},
   "outputs": [],
   "source": [
    "MCMCsummary(\n",
    "    volesout,\n",
    "    params =  volesparams[1:3]) #out parameters of interest"
   ]
  },
  {
   "cell_type": "markdown",
   "id": "60307067",
   "metadata": {},
   "source": [
    "### Occupancy plot"
   ]
  },
  {
   "cell_type": "code",
   "execution_count": null,
   "id": "93fec475",
   "metadata": {},
   "outputs": [],
   "source": [
    " occupancy <- data.frame(\n",
    "    Year=c(2009:2012),\n",
    "    Estimate=round(volesout$mean$propocc,2),\n",
    "    Lower=round(volesout$q2.5$propocc,2),\n",
    "    Upper=round(volesout$q97.5$propocc, 2)\n",
    ")\n",
    "\n",
    "\n",
    "ggplot(data = occupancy, aes(x=Year,y=Estimate)) + \n",
    "  geom_errorbar(aes(ymin=Lower, ymax=Upper), width=0) +\n",
    "  geom_point(size=3) +\n",
    "  theme_bw() + theme(\n",
    "      text = element_text(size=20),\n",
    "      panel.background = element_blank()\n",
    "  ) + scale_x_discrete(limits=occupancy$Year)\n",
    "\n",
    "occupancy"
   ]
  },
  {
   "cell_type": "markdown",
   "id": "9ce6a983",
   "metadata": {},
   "source": [
    "### Goodness of fit test"
   ]
  },
  {
   "cell_type": "code",
   "execution_count": null,
   "id": "2bbc4e57",
   "metadata": {},
   "outputs": [],
   "source": [
    "obs.chi <- volesout$sims.list$Chi2.obs\n",
    "sim.chi <- volesout$sims.list$Chi2.sim\n",
    "obs.ft <- volesout$sims.list$FT.obs\n",
    "sim.ft <- volesout$sims.list$FT.sim\n",
    "\n",
    "options(repr.plot.width=12, repr.plot.height=6)\n",
    "par(mfrow=c(1,2), oma=c(0,0,0,0), mar=c(4,4,1,1))\n",
    "plot(sim.chi~obs.chi,col=adjustcolor(ifelse(obs.chi>sim.chi, \"darkred\",\"darkorange\"),0.05), \n",
    "     pch=16, asp=1, xlab=\"Observed data\", ylab=\"Simulated data\",\n",
    "     xlim=c(50, 150), ylim=c(50, 150), cex=3, cex.lab=1.5, cex.main=1.5)\n",
    "abline(0,1, lwd=2)\n",
    "mean(obs.chi>sim.chi)"
   ]
  },
  {
   "cell_type": "markdown",
   "id": "16cb2095",
   "metadata": {},
   "source": [
    "### Extinction vs Length plot"
   ]
  },
  {
   "cell_type": "code",
   "execution_count": null,
   "id": "b9ca6e25",
   "metadata": {},
   "outputs": [],
   "source": [
    "options(repr.plot.width=8, repr.plot.height=6)\n",
    "lengthepsilon = data.frame(\n",
    "    Length = voles$Length,\n",
    "    Epsilon = volesout$mean$epsilon[,1],\n",
    "    Lower = volesout$q2.5$epsilon[,1],\n",
    "    Upper = volesout$q97.5$epsilon[,1]\n",
    ")\n",
    "\n",
    "ggplot(data = lengthepsilon, \n",
    "       aes(x = Length, y = Epsilon)) +\n",
    "       geom_line(line_type=\"dotted\", color=\"red\", size=1.5) +\n",
    "       geom_point(color=\"darkblue\", size=2) +\n",
    "       geom_ribbon(aes(x=Length, y=Epsilon, ymin=Lower, ymax=Upper),\n",
    "              fill=\"grey\", alpha = 0.25) +\n",
    "        theme(panel.grid.major = element_blank(), panel.grid.minor = element_blank(),\n",
    "        panel.background = element_blank(), \n",
    "        axis.line = element_line(colour = \"black\"),\n",
    "        text = element_text(size=20),\n",
    "        axis.ticks.x=element_blank()) + ylab(\"Extinction probability\")\n"
   ]
  },
  {
   "cell_type": "markdown",
   "id": "67388513",
   "metadata": {},
   "source": [
    "### Colonization vs connectivity"
   ]
  },
  {
   "cell_type": "code",
   "execution_count": null,
   "id": "56c161f0",
   "metadata": {},
   "outputs": [],
   "source": [
    "options(repr.plot.width=8, repr.plot.height=6) \n",
    "\n",
    "options(repr.plot.width=8, repr.plot.height=6)\n",
    "lengthepsilon = data.frame(\n",
    "    Connectivity = voles$Connectivity,\n",
    "    Colonization = volesout$mean$gamma[,1],\n",
    "    Lower = volesout$q2.5$gamma[,1],\n",
    "    Upper = volesout$q97.5$gamma[,1]\n",
    ")\n",
    "\n",
    "ggplot(data = lengthepsilon, \n",
    "       aes(x = Connectivity, y = Colonization)) +\n",
    "       geom_line(line_type=\"dotted\", color=\"red\", size=1.5) +\n",
    "       geom_point(color=\"darkblue\", size=2) +\n",
    "       geom_ribbon(aes(x=Connectivity, y=Colonization, ymin=Lower, ymax=Upper),\n",
    "              fill=\"grey\", alpha = 0.25) + \n",
    "       theme(panel.grid.major = element_blank(), panel.grid.minor = element_blank(),\n",
    "        panel.background = element_blank(), \n",
    "        axis.line = element_line(colour = \"black\"),\n",
    "        text = element_text(size=20),\n",
    "        axis.ticks.x=element_blank()) + ylab(\"Colonization probability\")"
   ]
  }
 ],
 "metadata": {
  "kernelspec": {
   "display_name": "R",
   "language": "R",
   "name": "ir"
  },
  "language_info": {
   "codemirror_mode": "r",
   "file_extension": ".r",
   "mimetype": "text/x-r-source",
   "name": "R",
   "pygments_lexer": "r",
   "version": "4.1.0"
  }
 },
 "nbformat": 4,
 "nbformat_minor": 5
}
