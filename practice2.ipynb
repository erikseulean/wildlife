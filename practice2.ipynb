{
 "cells": [
  {
   "cell_type": "code",
   "execution_count": 1,
   "id": "d2854869",
   "metadata": {},
   "outputs": [],
   "source": [
    "library(popbio)"
   ]
  },
  {
   "cell_type": "markdown",
   "id": "bedf083d",
   "metadata": {},
   "source": [
    "### Question 2"
   ]
  },
  {
   "cell_type": "code",
   "execution_count": 2,
   "id": "ab5b7154",
   "metadata": {},
   "outputs": [],
   "source": [
    "leslie =  matrix(c(\n",
    "    0, 3.5, 1.5, 0.5, \n",
    "    0.4, 0, 0, 0,\n",
    "    0, 0.5, 0, 0,\n",
    "    0, 0, 0.3, 0), nr = 4, byrow=TRUE)"
   ]
  },
  {
   "cell_type": "code",
   "execution_count": 3,
   "id": "b072ecc1",
   "metadata": {},
   "outputs": [
    {
     "data": {
      "text/html": [
       "<table class=\"dataframe\">\n",
       "<caption>A matrix: 4 × 4 of type dbl</caption>\n",
       "<tbody>\n",
       "\t<tr><td>0.0</td><td>3.5</td><td>1.5</td><td>0.5</td></tr>\n",
       "\t<tr><td>0.4</td><td>0.0</td><td>0.0</td><td>0.0</td></tr>\n",
       "\t<tr><td>0.0</td><td>0.5</td><td>0.0</td><td>0.0</td></tr>\n",
       "\t<tr><td>0.0</td><td>0.0</td><td>0.3</td><td>0.0</td></tr>\n",
       "</tbody>\n",
       "</table>\n"
      ],
      "text/latex": [
       "A matrix: 4 × 4 of type dbl\n",
       "\\begin{tabular}{llll}\n",
       "\t 0.0 & 3.5 & 1.5 & 0.5\\\\\n",
       "\t 0.4 & 0.0 & 0.0 & 0.0\\\\\n",
       "\t 0.0 & 0.5 & 0.0 & 0.0\\\\\n",
       "\t 0.0 & 0.0 & 0.3 & 0.0\\\\\n",
       "\\end{tabular}\n"
      ],
      "text/markdown": [
       "\n",
       "A matrix: 4 × 4 of type dbl\n",
       "\n",
       "| 0.0 | 3.5 | 1.5 | 0.5 |\n",
       "| 0.4 | 0.0 | 0.0 | 0.0 |\n",
       "| 0.0 | 0.5 | 0.0 | 0.0 |\n",
       "| 0.0 | 0.0 | 0.3 | 0.0 |\n",
       "\n"
      ],
      "text/plain": [
       "     [,1] [,2] [,3] [,4]\n",
       "[1,] 0.0  3.5  1.5  0.5 \n",
       "[2,] 0.4  0.0  0.0  0.0 \n",
       "[3,] 0.0  0.5  0.0  0.0 \n",
       "[4,] 0.0  0.0  0.3  0.0 "
      ]
     },
     "metadata": {},
     "output_type": "display_data"
    }
   ],
   "source": [
    "leslie"
   ]
  },
  {
   "cell_type": "markdown",
   "id": "8d536887",
   "metadata": {},
   "source": [
    "### Question 3"
   ]
  },
  {
   "cell_type": "code",
   "execution_count": 4,
   "id": "5237214f",
   "metadata": {},
   "outputs": [
    {
     "data": {
      "text/html": [
       "<table class=\"dataframe\">\n",
       "<caption>A matrix: 4 × 6 of type dbl</caption>\n",
       "<tbody>\n",
       "\t<tr><td>250</td><td>402.5</td><td>429.5</td><td>646.0</td><td>729.55</td><td>1045.325</td></tr>\n",
       "\t<tr><td>100</td><td>100.0</td><td>161.0</td><td>171.8</td><td>258.40</td><td> 291.820</td></tr>\n",
       "\t<tr><td> 30</td><td> 50.0</td><td> 50.0</td><td> 80.5</td><td> 85.90</td><td> 129.200</td></tr>\n",
       "\t<tr><td> 15</td><td>  9.0</td><td> 15.0</td><td> 15.0</td><td> 24.15</td><td>  25.770</td></tr>\n",
       "</tbody>\n",
       "</table>\n"
      ],
      "text/latex": [
       "A matrix: 4 × 6 of type dbl\n",
       "\\begin{tabular}{llllll}\n",
       "\t 250 & 402.5 & 429.5 & 646.0 & 729.55 & 1045.325\\\\\n",
       "\t 100 & 100.0 & 161.0 & 171.8 & 258.40 &  291.820\\\\\n",
       "\t  30 &  50.0 &  50.0 &  80.5 &  85.90 &  129.200\\\\\n",
       "\t  15 &   9.0 &  15.0 &  15.0 &  24.15 &   25.770\\\\\n",
       "\\end{tabular}\n"
      ],
      "text/markdown": [
       "\n",
       "A matrix: 4 × 6 of type dbl\n",
       "\n",
       "| 250 | 402.5 | 429.5 | 646.0 | 729.55 | 1045.325 |\n",
       "| 100 | 100.0 | 161.0 | 171.8 | 258.40 |  291.820 |\n",
       "|  30 |  50.0 |  50.0 |  80.5 |  85.90 |  129.200 |\n",
       "|  15 |   9.0 |  15.0 |  15.0 |  24.15 |   25.770 |\n",
       "\n"
      ],
      "text/plain": [
       "     [,1] [,2]  [,3]  [,4]  [,5]   [,6]    \n",
       "[1,] 250  402.5 429.5 646.0 729.55 1045.325\n",
       "[2,] 100  100.0 161.0 171.8 258.40  291.820\n",
       "[3,]  30   50.0  50.0  80.5  85.90  129.200\n",
       "[4,]  15    9.0  15.0  15.0  24.15   25.770"
      ]
     },
     "metadata": {},
     "output_type": "display_data"
    }
   ],
   "source": [
    "N0 = matrix(c(250,100,30,15), ncol=1)\n",
    "years = 5\n",
    "N.projections = matrix(0, nrow = nrow(leslie), ncol = years + 1)\n",
    "N.projections[, 1] <- N0\n",
    "\n",
    "for(i in 1: years) {\n",
    "    N.projections[, i + 1] = leslie %*% N.projections[, i]\n",
    "}\n",
    "\n",
    "N.projections"
   ]
  },
  {
   "cell_type": "code",
   "execution_count": 5,
   "id": "9af087c0",
   "metadata": {
    "scrolled": false
   },
   "outputs": [
    {
     "data": {
      "text/html": [
       "<dl>\n",
       "\t<dt>$lambda</dt>\n",
       "\t\t<dd>1.35893897996357</dd>\n",
       "\t<dt>$stable.stage</dt>\n",
       "\t\t<dd><style>\n",
       ".list-inline {list-style: none; margin:0; padding: 0}\n",
       ".list-inline>li {display: inline-block}\n",
       ".list-inline>li:not(:last-child)::after {content: \"\\00b7\"; padding: 0 .5ex}\n",
       "</style>\n",
       "<ol class=list-inline><li>0.700565975142667</li><li>0.195574737872081</li><li>0.0865885002161362</li><li>0.0172707867691163</li></ol>\n",
       "</dd>\n",
       "\t<dt>$stage.vectors</dt>\n",
       "\t\t<dd><table class=\"dataframe\">\n",
       "<caption>A matrix: 4 × 6 of type dbl</caption>\n",
       "<thead>\n",
       "\t<tr><th scope=col>0</th><th scope=col>1</th><th scope=col>2</th><th scope=col>3</th><th scope=col>4</th><th scope=col>5</th></tr>\n",
       "</thead>\n",
       "<tbody>\n",
       "\t<tr><td>250</td><td>402.5</td><td>429.5</td><td>646.0</td><td>729.55</td><td>1045.325</td></tr>\n",
       "\t<tr><td>100</td><td>100.0</td><td>161.0</td><td>171.8</td><td>258.40</td><td> 291.820</td></tr>\n",
       "\t<tr><td> 30</td><td> 50.0</td><td> 50.0</td><td> 80.5</td><td> 85.90</td><td> 129.200</td></tr>\n",
       "\t<tr><td> 15</td><td>  9.0</td><td> 15.0</td><td> 15.0</td><td> 24.15</td><td>  25.770</td></tr>\n",
       "</tbody>\n",
       "</table>\n",
       "</dd>\n",
       "\t<dt>$pop.sizes</dt>\n",
       "\t\t<dd><style>\n",
       ".list-inline {list-style: none; margin:0; padding: 0}\n",
       ".list-inline>li {display: inline-block}\n",
       ".list-inline>li:not(:last-child)::after {content: \"\\00b7\"; padding: 0 .5ex}\n",
       "</style>\n",
       "<ol class=list-inline><li>395</li><li>561.5</li><li>655.5</li><li>913.3</li><li>1098</li><li>1492.115</li></ol>\n",
       "</dd>\n",
       "\t<dt>$pop.changes</dt>\n",
       "\t\t<dd><style>\n",
       ".list-inline {list-style: none; margin:0; padding: 0}\n",
       ".list-inline>li {display: inline-block}\n",
       ".list-inline>li:not(:last-child)::after {content: \"\\00b7\"; padding: 0 .5ex}\n",
       "</style>\n",
       "<ol class=list-inline><li>1.42151898734177</li><li>1.16740872662511</li><li>1.39328756674294</li><li>1.20223365816271</li><li>1.35893897996357</li></ol>\n",
       "</dd>\n",
       "</dl>\n"
      ],
      "text/latex": [
       "\\begin{description}\n",
       "\\item[\\$lambda] 1.35893897996357\n",
       "\\item[\\$stable.stage] \\begin{enumerate*}\n",
       "\\item 0.700565975142667\n",
       "\\item 0.195574737872081\n",
       "\\item 0.0865885002161362\n",
       "\\item 0.0172707867691163\n",
       "\\end{enumerate*}\n",
       "\n",
       "\\item[\\$stage.vectors] A matrix: 4 × 6 of type dbl\n",
       "\\begin{tabular}{llllll}\n",
       " 0 & 1 & 2 & 3 & 4 & 5\\\\\n",
       "\\hline\n",
       "\t 250 & 402.5 & 429.5 & 646.0 & 729.55 & 1045.325\\\\\n",
       "\t 100 & 100.0 & 161.0 & 171.8 & 258.40 &  291.820\\\\\n",
       "\t  30 &  50.0 &  50.0 &  80.5 &  85.90 &  129.200\\\\\n",
       "\t  15 &   9.0 &  15.0 &  15.0 &  24.15 &   25.770\\\\\n",
       "\\end{tabular}\n",
       "\n",
       "\\item[\\$pop.sizes] \\begin{enumerate*}\n",
       "\\item 395\n",
       "\\item 561.5\n",
       "\\item 655.5\n",
       "\\item 913.3\n",
       "\\item 1098\n",
       "\\item 1492.115\n",
       "\\end{enumerate*}\n",
       "\n",
       "\\item[\\$pop.changes] \\begin{enumerate*}\n",
       "\\item 1.42151898734177\n",
       "\\item 1.16740872662511\n",
       "\\item 1.39328756674294\n",
       "\\item 1.20223365816271\n",
       "\\item 1.35893897996357\n",
       "\\end{enumerate*}\n",
       "\n",
       "\\end{description}\n"
      ],
      "text/markdown": [
       "$lambda\n",
       ":   1.35893897996357\n",
       "$stable.stage\n",
       ":   1. 0.700565975142667\n",
       "2. 0.195574737872081\n",
       "3. 0.0865885002161362\n",
       "4. 0.0172707867691163\n",
       "\n",
       "\n",
       "\n",
       "$stage.vectors\n",
       ":   \n",
       "A matrix: 4 × 6 of type dbl\n",
       "\n",
       "| 0 | 1 | 2 | 3 | 4 | 5 |\n",
       "|---|---|---|---|---|---|\n",
       "| 250 | 402.5 | 429.5 | 646.0 | 729.55 | 1045.325 |\n",
       "| 100 | 100.0 | 161.0 | 171.8 | 258.40 |  291.820 |\n",
       "|  30 |  50.0 |  50.0 |  80.5 |  85.90 |  129.200 |\n",
       "|  15 |   9.0 |  15.0 |  15.0 |  24.15 |   25.770 |\n",
       "\n",
       "\n",
       "$pop.sizes\n",
       ":   1. 395\n",
       "2. 561.5\n",
       "3. 655.5\n",
       "4. 913.3\n",
       "5. 1098\n",
       "6. 1492.115\n",
       "\n",
       "\n",
       "\n",
       "$pop.changes\n",
       ":   1. 1.42151898734177\n",
       "2. 1.16740872662511\n",
       "3. 1.39328756674294\n",
       "4. 1.20223365816271\n",
       "5. 1.35893897996357\n",
       "\n",
       "\n",
       "\n",
       "\n",
       "\n"
      ],
      "text/plain": [
       "$lambda\n",
       "[1] 1.358939\n",
       "\n",
       "$stable.stage\n",
       "[1] 0.70056598 0.19557474 0.08658850 0.01727079\n",
       "\n",
       "$stage.vectors\n",
       "       0     1     2     3      4        5\n",
       "[1,] 250 402.5 429.5 646.0 729.55 1045.325\n",
       "[2,] 100 100.0 161.0 171.8 258.40  291.820\n",
       "[3,]  30  50.0  50.0  80.5  85.90  129.200\n",
       "[4,]  15   9.0  15.0  15.0  24.15   25.770\n",
       "\n",
       "$pop.sizes\n",
       "[1]  395.000  561.500  655.500  913.300 1098.000 1492.115\n",
       "\n",
       "$pop.changes\n",
       "[1] 1.421519 1.167409 1.393288 1.202234 1.358939\n"
      ]
     },
     "metadata": {},
     "output_type": "display_data"
    }
   ],
   "source": [
    "pop.projection(A = leslie, n = N0, iterations = years+1)"
   ]
  },
  {
   "cell_type": "markdown",
   "id": "237eb2a6",
   "metadata": {},
   "source": [
    "### Question 4"
   ]
  },
  {
   "cell_type": "code",
   "execution_count": 6,
   "id": "5a213509",
   "metadata": {
    "scrolled": false
   },
   "outputs": [],
   "source": [
    "analysis = eigen.analysis(leslie)"
   ]
  },
  {
   "cell_type": "markdown",
   "id": "eb47eb63",
   "metadata": {},
   "source": [
    "What is the growth rate, and what does this tell us about the growth of the population?"
   ]
  },
  {
   "cell_type": "code",
   "execution_count": 7,
   "id": "226fbb70",
   "metadata": {
    "scrolled": true
   },
   "outputs": [
    {
     "name": "stdout",
     "output_type": "stream",
     "text": [
      "[1] \"Growth rate 1.29 population is increasing\"\n"
     ]
    }
   ],
   "source": [
    "growth_rate = round(analysis$lambda1, 2)\n",
    "print(paste(\"Growth rate\", growth_rate, \"population is increasing\"))"
   ]
  },
  {
   "cell_type": "markdown",
   "id": "0761f316",
   "metadata": {},
   "source": [
    "What is the stable age distribution, and can you confirm this using the projected population sizes in the last time step?"
   ]
  },
  {
   "cell_type": "code",
   "execution_count": 8,
   "id": "90a19c74",
   "metadata": {},
   "outputs": [
    {
     "data": {
      "text/html": [
       "<style>\n",
       ".list-inline {list-style: none; margin:0; padding: 0}\n",
       ".list-inline>li {display: inline-block}\n",
       ".list-inline>li:not(:last-child)::after {content: \"\\00b7\"; padding: 0 .5ex}\n",
       "</style>\n",
       "<ol class=list-inline><li>0.700565975142667</li><li>0.195574737872081</li><li>0.0865885002161362</li><li>0.0172707867691163</li></ol>\n"
      ],
      "text/latex": [
       "\\begin{enumerate*}\n",
       "\\item 0.700565975142667\n",
       "\\item 0.195574737872081\n",
       "\\item 0.0865885002161362\n",
       "\\item 0.0172707867691163\n",
       "\\end{enumerate*}\n"
      ],
      "text/markdown": [
       "1. 0.700565975142667\n",
       "2. 0.195574737872081\n",
       "3. 0.0865885002161362\n",
       "4. 0.0172707867691163\n",
       "\n",
       "\n"
      ],
      "text/plain": [
       "[1] 0.70056598 0.19557474 0.08658850 0.01727079"
      ]
     },
     "metadata": {},
     "output_type": "display_data"
    }
   ],
   "source": [
    "stable_age_distribution = N.projections[, 6]\n",
    "stable_age_distribution = stable_age_distribution/sum(stable_age_distribution)\n",
    "stable_age_distribution"
   ]
  },
  {
   "cell_type": "markdown",
   "id": "8194ce26",
   "metadata": {},
   "source": [
    "Which age group contributes most to population growth in absolute and relative terms?"
   ]
  },
  {
   "cell_type": "code",
   "execution_count": 9,
   "id": "bb59e5d0",
   "metadata": {
    "scrolled": false
   },
   "outputs": [
    {
     "data": {
      "text/html": [
       "<dl>\n",
       "\t<dt>$lambda1</dt>\n",
       "\t\t<dd>1.28514617002707</dd>\n",
       "\t<dt>$stable.stage</dt>\n",
       "\t\t<dd><style>\n",
       ".list-inline {list-style: none; margin:0; padding: 0}\n",
       ".list-inline>li {display: inline-block}\n",
       ".list-inline>li:not(:last-child)::after {content: \"\\00b7\"; padding: 0 .5ex}\n",
       "</style>\n",
       "<ol class=list-inline><li>0.684644895589294</li><li>0.213094793901886</li><li>0.0829068314841559</li><li>0.0193534790246644</li></ol>\n",
       "</dd>\n",
       "\t<dt>$sensitivities</dt>\n",
       "\t\t<dd><table class=\"dataframe\">\n",
       "<caption>A matrix: 4 × 4 of type dbl</caption>\n",
       "<tbody>\n",
       "\t<tr><td>0.4622492</td><td>0.1438744</td><td>0.05597590</td><td>0.013066817</td></tr>\n",
       "\t<tr><td>1.4851444</td><td>0.4622492</td><td>0.17984303</td><td>0.041981925</td></tr>\n",
       "\t<tr><td>0.5815110</td><td>0.1809945</td><td>0.07041787</td><td>0.016438100</td></tr>\n",
       "\t<tr><td>0.1798430</td><td>0.0559759</td><td>0.02177803</td><td>0.005083786</td></tr>\n",
       "</tbody>\n",
       "</table>\n",
       "</dd>\n",
       "\t<dt>$elasticities</dt>\n",
       "\t\t<dd><table class=\"dataframe\">\n",
       "<caption>A matrix: 4 × 4 of type dbl</caption>\n",
       "<tbody>\n",
       "\t<tr><td>0.0000000</td><td>0.39183130</td><td>0.065334086</td><td>0.005083786</td></tr>\n",
       "\t<tr><td>0.4622492</td><td>0.00000000</td><td>0.000000000</td><td>0.000000000</td></tr>\n",
       "\t<tr><td>0.0000000</td><td>0.07041787</td><td>0.000000000</td><td>0.000000000</td></tr>\n",
       "\t<tr><td>0.0000000</td><td>0.00000000</td><td>0.005083786</td><td>0.000000000</td></tr>\n",
       "</tbody>\n",
       "</table>\n",
       "</dd>\n",
       "\t<dt>$repro.value</dt>\n",
       "\t\t<dd><style>\n",
       ".list-inline {list-style: none; margin:0; padding: 0}\n",
       ".list-inline>li {display: inline-block}\n",
       ".list-inline>li:not(:last-child)::after {content: \"\\00b7\"; padding: 0 .5ex}\n",
       "</style>\n",
       "<ol class=list-inline><li>1</li><li>3.21286542506769</li><li>1.25800339167629</li><li>0.389060802312835</li></ol>\n",
       "</dd>\n",
       "\t<dt>$damping.ratio</dt>\n",
       "\t\t<dd>1.2005362080562</dd>\n",
       "</dl>\n"
      ],
      "text/latex": [
       "\\begin{description}\n",
       "\\item[\\$lambda1] 1.28514617002707\n",
       "\\item[\\$stable.stage] \\begin{enumerate*}\n",
       "\\item 0.684644895589294\n",
       "\\item 0.213094793901886\n",
       "\\item 0.0829068314841559\n",
       "\\item 0.0193534790246644\n",
       "\\end{enumerate*}\n",
       "\n",
       "\\item[\\$sensitivities] A matrix: 4 × 4 of type dbl\n",
       "\\begin{tabular}{llll}\n",
       "\t 0.4622492 & 0.1438744 & 0.05597590 & 0.013066817\\\\\n",
       "\t 1.4851444 & 0.4622492 & 0.17984303 & 0.041981925\\\\\n",
       "\t 0.5815110 & 0.1809945 & 0.07041787 & 0.016438100\\\\\n",
       "\t 0.1798430 & 0.0559759 & 0.02177803 & 0.005083786\\\\\n",
       "\\end{tabular}\n",
       "\n",
       "\\item[\\$elasticities] A matrix: 4 × 4 of type dbl\n",
       "\\begin{tabular}{llll}\n",
       "\t 0.0000000 & 0.39183130 & 0.065334086 & 0.005083786\\\\\n",
       "\t 0.4622492 & 0.00000000 & 0.000000000 & 0.000000000\\\\\n",
       "\t 0.0000000 & 0.07041787 & 0.000000000 & 0.000000000\\\\\n",
       "\t 0.0000000 & 0.00000000 & 0.005083786 & 0.000000000\\\\\n",
       "\\end{tabular}\n",
       "\n",
       "\\item[\\$repro.value] \\begin{enumerate*}\n",
       "\\item 1\n",
       "\\item 3.21286542506769\n",
       "\\item 1.25800339167629\n",
       "\\item 0.389060802312835\n",
       "\\end{enumerate*}\n",
       "\n",
       "\\item[\\$damping.ratio] 1.2005362080562\n",
       "\\end{description}\n"
      ],
      "text/markdown": [
       "$lambda1\n",
       ":   1.28514617002707\n",
       "$stable.stage\n",
       ":   1. 0.684644895589294\n",
       "2. 0.213094793901886\n",
       "3. 0.0829068314841559\n",
       "4. 0.0193534790246644\n",
       "\n",
       "\n",
       "\n",
       "$sensitivities\n",
       ":   \n",
       "A matrix: 4 × 4 of type dbl\n",
       "\n",
       "| 0.4622492 | 0.1438744 | 0.05597590 | 0.013066817 |\n",
       "| 1.4851444 | 0.4622492 | 0.17984303 | 0.041981925 |\n",
       "| 0.5815110 | 0.1809945 | 0.07041787 | 0.016438100 |\n",
       "| 0.1798430 | 0.0559759 | 0.02177803 | 0.005083786 |\n",
       "\n",
       "\n",
       "$elasticities\n",
       ":   \n",
       "A matrix: 4 × 4 of type dbl\n",
       "\n",
       "| 0.0000000 | 0.39183130 | 0.065334086 | 0.005083786 |\n",
       "| 0.4622492 | 0.00000000 | 0.000000000 | 0.000000000 |\n",
       "| 0.0000000 | 0.07041787 | 0.000000000 | 0.000000000 |\n",
       "| 0.0000000 | 0.00000000 | 0.005083786 | 0.000000000 |\n",
       "\n",
       "\n",
       "$repro.value\n",
       ":   1. 1\n",
       "2. 3.21286542506769\n",
       "3. 1.25800339167629\n",
       "4. 0.389060802312835\n",
       "\n",
       "\n",
       "\n",
       "$damping.ratio\n",
       ":   1.2005362080562\n",
       "\n",
       "\n"
      ],
      "text/plain": [
       "$lambda1\n",
       "[1] 1.285146\n",
       "\n",
       "$stable.stage\n",
       "[1] 0.68464490 0.21309479 0.08290683 0.01935348\n",
       "\n",
       "$sensitivities\n",
       "          [,1]      [,2]       [,3]        [,4]\n",
       "[1,] 0.4622492 0.1438744 0.05597590 0.013066817\n",
       "[2,] 1.4851444 0.4622492 0.17984303 0.041981925\n",
       "[3,] 0.5815110 0.1809945 0.07041787 0.016438100\n",
       "[4,] 0.1798430 0.0559759 0.02177803 0.005083786\n",
       "\n",
       "$elasticities\n",
       "          [,1]       [,2]        [,3]        [,4]\n",
       "[1,] 0.0000000 0.39183130 0.065334086 0.005083786\n",
       "[2,] 0.4622492 0.00000000 0.000000000 0.000000000\n",
       "[3,] 0.0000000 0.07041787 0.000000000 0.000000000\n",
       "[4,] 0.0000000 0.00000000 0.005083786 0.000000000\n",
       "\n",
       "$repro.value\n",
       "[1] 1.0000000 3.2128654 1.2580034 0.3890608\n",
       "\n",
       "$damping.ratio\n",
       "[1] 1.200536\n"
      ]
     },
     "metadata": {},
     "output_type": "display_data"
    }
   ],
   "source": [
    "analysis"
   ]
  },
  {
   "cell_type": "markdown",
   "id": "af43b640",
   "metadata": {},
   "source": [
    "First age group N1 has the highest elasticity and sensitivity. "
   ]
  },
  {
   "cell_type": "markdown",
   "id": "fb481f10",
   "metadata": {},
   "source": [
    "## Exercise 2"
   ]
  },
  {
   "cell_type": "code",
   "execution_count": 10,
   "id": "9b87f191",
   "metadata": {},
   "outputs": [],
   "source": [
    "N0 = c(800,200,30,60,40,15)\n",
    "leftkovich =  matrix(c(\n",
    "    0.83, 0, 0, 0.2, 1.56, 2.63,\n",
    "    0.06, 0.73, 0, 0, 0, 0,\n",
    "    0, 0.01, 0.93, 0, 0, 0,\n",
    "    0, 0, 0.07, 0.95, 0, 0,\n",
    "    0, 0, 0, 0.05, 0.94, 0,\n",
    "    0, 0, 0, 0, 0.04, 0.83), nr = 6, byrow=TRUE)"
   ]
  },
  {
   "cell_type": "code",
   "execution_count": 11,
   "id": "78df6a58",
   "metadata": {},
   "outputs": [],
   "source": [
    "projection = pop.projection(A = leftkovich, n = N0, iterations = years+1)"
   ]
  },
  {
   "cell_type": "code",
   "execution_count": 12,
   "id": "b5de83cc",
   "metadata": {},
   "outputs": [],
   "source": [
    "analysis = eigen.analysis(leftkovich)"
   ]
  },
  {
   "cell_type": "code",
   "execution_count": 13,
   "id": "5d2a2c6f",
   "metadata": {},
   "outputs": [
    {
     "data": {
      "text/html": [
       "0.990234967683953"
      ],
      "text/latex": [
       "0.990234967683953"
      ],
      "text/markdown": [
       "0.990234967683953"
      ],
      "text/plain": [
       "[1] 0.990235"
      ]
     },
     "metadata": {},
     "output_type": "display_data"
    }
   ],
   "source": [
    "analysis$lambda1"
   ]
  },
  {
   "cell_type": "markdown",
   "id": "221f4dbd",
   "metadata": {},
   "source": [
    "What is the growth rate, and what does this tell us about the growth of the population?\n",
    "\n",
    "Population is likely to stay unchanged over time."
   ]
  },
  {
   "cell_type": "markdown",
   "id": "54ff3038",
   "metadata": {},
   "source": [
    "What is the stable stage distribution, and can you confirm this using the projected population sizes in the last time step?"
   ]
  },
  {
   "cell_type": "code",
   "execution_count": 14,
   "id": "a7b174ab",
   "metadata": {},
   "outputs": [
    {
     "data": {
      "text/html": [
       "<style>\n",
       ".list-inline {list-style: none; margin:0; padding: 0}\n",
       ".list-inline>li {display: inline-block}\n",
       ".list-inline>li:not(:last-child)::after {content: \"\\00b7\"; padding: 0 .5ex}\n",
       "</style>\n",
       "<ol class=list-inline><li>0.694386748431726</li><li>0.169634755760127</li><li>0.0284242190617325</li><li>0.0546514475260424</li><li>0.0413640680214737</li><li>0.0115387611988987</li></ol>\n"
      ],
      "text/latex": [
       "\\begin{enumerate*}\n",
       "\\item 0.694386748431726\n",
       "\\item 0.169634755760127\n",
       "\\item 0.0284242190617325\n",
       "\\item 0.0546514475260424\n",
       "\\item 0.0413640680214737\n",
       "\\item 0.0115387611988987\n",
       "\\end{enumerate*}\n"
      ],
      "text/markdown": [
       "1. 0.694386748431726\n",
       "2. 0.169634755760127\n",
       "3. 0.0284242190617325\n",
       "4. 0.0546514475260424\n",
       "5. 0.0413640680214737\n",
       "6. 0.0115387611988987\n",
       "\n",
       "\n"
      ],
      "text/plain": [
       "[1] 0.69438675 0.16963476 0.02842422 0.05465145 0.04136407 0.01153876"
      ]
     },
     "metadata": {},
     "output_type": "display_data"
    }
   ],
   "source": [
    "projection$stable.stage"
   ]
  },
  {
   "cell_type": "code",
   "execution_count": 15,
   "id": "b4cab664",
   "metadata": {},
   "outputs": [
    {
     "data": {
      "text/html": [
       "<style>\n",
       ".list-inline {list-style: none; margin:0; padding: 0}\n",
       ".list-inline>li {display: inline-block}\n",
       ".list-inline>li:not(:last-child)::after {content: \"\\00b7\"; padding: 0 .5ex}\n",
       "</style>\n",
       "<ol class=list-inline><li>0.6947249611954</li><li>0.17081908252721</li><li>0.0281407488338791</li><li>0.0543510171477687</li><li>0.0402693823293838</li><li>0.0116948079663594</li></ol>\n"
      ],
      "text/latex": [
       "\\begin{enumerate*}\n",
       "\\item 0.6947249611954\n",
       "\\item 0.17081908252721\n",
       "\\item 0.0281407488338791\n",
       "\\item 0.0543510171477687\n",
       "\\item 0.0402693823293838\n",
       "\\item 0.0116948079663594\n",
       "\\end{enumerate*}\n"
      ],
      "text/markdown": [
       "1. 0.6947249611954\n",
       "2. 0.17081908252721\n",
       "3. 0.0281407488338791\n",
       "4. 0.0543510171477687\n",
       "5. 0.0402693823293838\n",
       "6. 0.0116948079663594\n",
       "\n",
       "\n"
      ],
      "text/plain": [
       "[1] 0.69472496 0.17081908 0.02814075 0.05435102 0.04026938 0.01169481"
      ]
     },
     "metadata": {},
     "output_type": "display_data"
    }
   ],
   "source": [
    "last = projection$stage.vectors[, 5]\n",
    "last/sum(last)"
   ]
  },
  {
   "cell_type": "code",
   "execution_count": 17,
   "id": "96244469",
   "metadata": {},
   "outputs": [
    {
     "data": {
      "text/html": [
       "<dl>\n",
       "\t<dt>$lambda1</dt>\n",
       "\t\t<dd>0.990234967683953</dd>\n",
       "\t<dt>$stable.stage</dt>\n",
       "\t\t<dd><style>\n",
       ".list-inline {list-style: none; margin:0; padding: 0}\n",
       ".list-inline>li {display: inline-block}\n",
       ".list-inline>li:not(:last-child)::after {content: \"\\00b7\"; padding: 0 .5ex}\n",
       "</style>\n",
       "<ol class=list-inline><li>0.705089673648424</li><li>0.162566087084362</li><li>0.026988656810994</li><li>0.0469543306610651</li><li>0.0467347077403057</li><li>0.0116665440548495</li></ol>\n",
       "</dd>\n",
       "\t<dt>$sensitivities</dt>\n",
       "\t\t<dd><table class=\"dataframe\">\n",
       "<caption>A matrix: 6 × 6 of type dbl</caption>\n",
       "<tbody>\n",
       "\t<tr><td>0.08730164</td><td>0.02012834</td><td>0.003341637</td><td>0.005813714</td><td>0.005786522</td><td>0.001444509</td></tr>\n",
       "\t<tr><td>0.23314626</td><td>0.05375440</td><td>0.008924119</td><td>0.015526006</td><td>0.015453385</td><td>0.003857681</td></tr>\n",
       "\t<tr><td>6.06728085</td><td>1.39887754</td><td>0.232236788</td><td>0.404040964</td><td>0.402151114</td><td>0.100390350</td></tr>\n",
       "\t<tr><td>5.22089237</td><td>1.20373348</td><td>0.199839648</td><td>0.347677063</td><td>0.346050848</td><td>0.086385850</td></tr>\n",
       "\t<tr><td>3.85204216</td><td>0.88813018</td><td>0.147444287</td><td>0.256520650</td><td>0.255320807</td><td>0.063736602</td></tr>\n",
       "\t<tr><td>1.43291639</td><td>0.33037445</td><td>0.054847618</td><td>0.095422799</td><td>0.094976471</td><td>0.023709299</td></tr>\n",
       "</tbody>\n",
       "</table>\n",
       "</dd>\n",
       "\t<dt>$elasticities</dt>\n",
       "\t\t<dd><table class=\"dataframe\">\n",
       "<caption>A matrix: 6 × 6 of type dbl</caption>\n",
       "<tbody>\n",
       "\t<tr><td>0.07317492</td><td>0.00000000</td><td>0.00000000</td><td>0.001174209</td><td>0.009115992</td><td>0.003836523</td></tr>\n",
       "\t<tr><td>0.01412672</td><td>0.03962768</td><td>0.00000000</td><td>0.000000000</td><td>0.000000000</td><td>0.000000000</td></tr>\n",
       "\t<tr><td>0.00000000</td><td>0.01412672</td><td>0.21811006</td><td>0.000000000</td><td>0.000000000</td><td>0.000000000</td></tr>\n",
       "\t<tr><td>0.00000000</td><td>0.00000000</td><td>0.01412672</td><td>0.333550340</td><td>0.000000000</td><td>0.000000000</td></tr>\n",
       "\t<tr><td>0.00000000</td><td>0.00000000</td><td>0.00000000</td><td>0.012952514</td><td>0.242368293</td><td>0.000000000</td></tr>\n",
       "\t<tr><td>0.00000000</td><td>0.00000000</td><td>0.00000000</td><td>0.000000000</td><td>0.003836523</td><td>0.019872777</td></tr>\n",
       "</tbody>\n",
       "</table>\n",
       "</dd>\n",
       "\t<dt>$repro.value</dt>\n",
       "\t\t<dd><style>\n",
       ".list-inline {list-style: none; margin:0; padding: 0}\n",
       ".list-inline>li {display: inline-block}\n",
       ".list-inline>li:not(:last-child)::after {content: \"\\00b7\"; padding: 0 .5ex}\n",
       "</style>\n",
       "<ol class=list-inline><li>1</li><li>2.67058279473268</li><li>69.4979027284591</li><li>59.8029132135887</li><li>44.1233656110985</li><li>16.4133961395204</li></ol>\n",
       "</dd>\n",
       "\t<dt>$damping.ratio</dt>\n",
       "\t\t<dd>1.06596695193498</dd>\n",
       "</dl>\n"
      ],
      "text/latex": [
       "\\begin{description}\n",
       "\\item[\\$lambda1] 0.990234967683953\n",
       "\\item[\\$stable.stage] \\begin{enumerate*}\n",
       "\\item 0.705089673648424\n",
       "\\item 0.162566087084362\n",
       "\\item 0.026988656810994\n",
       "\\item 0.0469543306610651\n",
       "\\item 0.0467347077403057\n",
       "\\item 0.0116665440548495\n",
       "\\end{enumerate*}\n",
       "\n",
       "\\item[\\$sensitivities] A matrix: 6 × 6 of type dbl\n",
       "\\begin{tabular}{llllll}\n",
       "\t 0.08730164 & 0.02012834 & 0.003341637 & 0.005813714 & 0.005786522 & 0.001444509\\\\\n",
       "\t 0.23314626 & 0.05375440 & 0.008924119 & 0.015526006 & 0.015453385 & 0.003857681\\\\\n",
       "\t 6.06728085 & 1.39887754 & 0.232236788 & 0.404040964 & 0.402151114 & 0.100390350\\\\\n",
       "\t 5.22089237 & 1.20373348 & 0.199839648 & 0.347677063 & 0.346050848 & 0.086385850\\\\\n",
       "\t 3.85204216 & 0.88813018 & 0.147444287 & 0.256520650 & 0.255320807 & 0.063736602\\\\\n",
       "\t 1.43291639 & 0.33037445 & 0.054847618 & 0.095422799 & 0.094976471 & 0.023709299\\\\\n",
       "\\end{tabular}\n",
       "\n",
       "\\item[\\$elasticities] A matrix: 6 × 6 of type dbl\n",
       "\\begin{tabular}{llllll}\n",
       "\t 0.07317492 & 0.00000000 & 0.00000000 & 0.001174209 & 0.009115992 & 0.003836523\\\\\n",
       "\t 0.01412672 & 0.03962768 & 0.00000000 & 0.000000000 & 0.000000000 & 0.000000000\\\\\n",
       "\t 0.00000000 & 0.01412672 & 0.21811006 & 0.000000000 & 0.000000000 & 0.000000000\\\\\n",
       "\t 0.00000000 & 0.00000000 & 0.01412672 & 0.333550340 & 0.000000000 & 0.000000000\\\\\n",
       "\t 0.00000000 & 0.00000000 & 0.00000000 & 0.012952514 & 0.242368293 & 0.000000000\\\\\n",
       "\t 0.00000000 & 0.00000000 & 0.00000000 & 0.000000000 & 0.003836523 & 0.019872777\\\\\n",
       "\\end{tabular}\n",
       "\n",
       "\\item[\\$repro.value] \\begin{enumerate*}\n",
       "\\item 1\n",
       "\\item 2.67058279473268\n",
       "\\item 69.4979027284591\n",
       "\\item 59.8029132135887\n",
       "\\item 44.1233656110985\n",
       "\\item 16.4133961395204\n",
       "\\end{enumerate*}\n",
       "\n",
       "\\item[\\$damping.ratio] 1.06596695193498\n",
       "\\end{description}\n"
      ],
      "text/markdown": [
       "$lambda1\n",
       ":   0.990234967683953\n",
       "$stable.stage\n",
       ":   1. 0.705089673648424\n",
       "2. 0.162566087084362\n",
       "3. 0.026988656810994\n",
       "4. 0.0469543306610651\n",
       "5. 0.0467347077403057\n",
       "6. 0.0116665440548495\n",
       "\n",
       "\n",
       "\n",
       "$sensitivities\n",
       ":   \n",
       "A matrix: 6 × 6 of type dbl\n",
       "\n",
       "| 0.08730164 | 0.02012834 | 0.003341637 | 0.005813714 | 0.005786522 | 0.001444509 |\n",
       "| 0.23314626 | 0.05375440 | 0.008924119 | 0.015526006 | 0.015453385 | 0.003857681 |\n",
       "| 6.06728085 | 1.39887754 | 0.232236788 | 0.404040964 | 0.402151114 | 0.100390350 |\n",
       "| 5.22089237 | 1.20373348 | 0.199839648 | 0.347677063 | 0.346050848 | 0.086385850 |\n",
       "| 3.85204216 | 0.88813018 | 0.147444287 | 0.256520650 | 0.255320807 | 0.063736602 |\n",
       "| 1.43291639 | 0.33037445 | 0.054847618 | 0.095422799 | 0.094976471 | 0.023709299 |\n",
       "\n",
       "\n",
       "$elasticities\n",
       ":   \n",
       "A matrix: 6 × 6 of type dbl\n",
       "\n",
       "| 0.07317492 | 0.00000000 | 0.00000000 | 0.001174209 | 0.009115992 | 0.003836523 |\n",
       "| 0.01412672 | 0.03962768 | 0.00000000 | 0.000000000 | 0.000000000 | 0.000000000 |\n",
       "| 0.00000000 | 0.01412672 | 0.21811006 | 0.000000000 | 0.000000000 | 0.000000000 |\n",
       "| 0.00000000 | 0.00000000 | 0.01412672 | 0.333550340 | 0.000000000 | 0.000000000 |\n",
       "| 0.00000000 | 0.00000000 | 0.00000000 | 0.012952514 | 0.242368293 | 0.000000000 |\n",
       "| 0.00000000 | 0.00000000 | 0.00000000 | 0.000000000 | 0.003836523 | 0.019872777 |\n",
       "\n",
       "\n",
       "$repro.value\n",
       ":   1. 1\n",
       "2. 2.67058279473268\n",
       "3. 69.4979027284591\n",
       "4. 59.8029132135887\n",
       "5. 44.1233656110985\n",
       "6. 16.4133961395204\n",
       "\n",
       "\n",
       "\n",
       "$damping.ratio\n",
       ":   1.06596695193498\n",
       "\n",
       "\n"
      ],
      "text/plain": [
       "$lambda1\n",
       "[1] 0.990235\n",
       "\n",
       "$stable.stage\n",
       "[1] 0.70508967 0.16256609 0.02698866 0.04695433 0.04673471 0.01166654\n",
       "\n",
       "$sensitivities\n",
       "           [,1]       [,2]        [,3]        [,4]        [,5]        [,6]\n",
       "[1,] 0.08730164 0.02012834 0.003341637 0.005813714 0.005786522 0.001444509\n",
       "[2,] 0.23314626 0.05375440 0.008924119 0.015526006 0.015453385 0.003857681\n",
       "[3,] 6.06728085 1.39887754 0.232236788 0.404040964 0.402151114 0.100390350\n",
       "[4,] 5.22089237 1.20373348 0.199839648 0.347677063 0.346050848 0.086385850\n",
       "[5,] 3.85204216 0.88813018 0.147444287 0.256520650 0.255320807 0.063736602\n",
       "[6,] 1.43291639 0.33037445 0.054847618 0.095422799 0.094976471 0.023709299\n",
       "\n",
       "$elasticities\n",
       "           [,1]       [,2]       [,3]        [,4]        [,5]        [,6]\n",
       "[1,] 0.07317492 0.00000000 0.00000000 0.001174209 0.009115992 0.003836523\n",
       "[2,] 0.01412672 0.03962768 0.00000000 0.000000000 0.000000000 0.000000000\n",
       "[3,] 0.00000000 0.01412672 0.21811006 0.000000000 0.000000000 0.000000000\n",
       "[4,] 0.00000000 0.00000000 0.01412672 0.333550340 0.000000000 0.000000000\n",
       "[5,] 0.00000000 0.00000000 0.00000000 0.012952514 0.242368293 0.000000000\n",
       "[6,] 0.00000000 0.00000000 0.00000000 0.000000000 0.003836523 0.019872777\n",
       "\n",
       "$repro.value\n",
       "[1]  1.000000  2.670583 69.497903 59.802913 44.123366 16.413396\n",
       "\n",
       "$damping.ratio\n",
       "[1] 1.065967\n"
      ]
     },
     "metadata": {},
     "output_type": "display_data"
    }
   ],
   "source": [
    "analysis"
   ]
  }
 ],
 "metadata": {
  "kernelspec": {
   "display_name": "R",
   "language": "R",
   "name": "ir"
  },
  "language_info": {
   "codemirror_mode": "r",
   "file_extension": ".r",
   "mimetype": "text/x-r-source",
   "name": "R",
   "pygments_lexer": "r",
   "version": "4.1.0"
  }
 },
 "nbformat": 4,
 "nbformat_minor": 5
}
