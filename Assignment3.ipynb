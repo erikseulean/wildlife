{
 "cells": [
  {
   "cell_type": "code",
   "execution_count": 11,
   "id": "e5dc7a16",
   "metadata": {},
   "outputs": [
    {
     "name": "stderr",
     "output_type": "stream",
     "text": [
      "Warning message:\n",
      "“package ‘jagsUI’ was built under R version 4.1.1”\n",
      "Warning message:\n",
      "“package ‘ggplot2’ was built under R version 4.1.1”\n"
     ]
    }
   ],
   "source": [
    "library(statsecol)\n",
    "library(jagsUI)\n",
    "library(MCMCvis)\n",
    "library(ggplot2)\n",
    "data(\"voles\")"
   ]
  },
  {
   "cell_type": "code",
   "execution_count": null,
   "id": "76ed566e",
   "metadata": {},
   "outputs": [],
   "source": [
    "sink(\"voles.txt\")\n",
    "cat(\"\n",
    "model{\n",
    "  # Prior specification\n",
    "  psi1 ~ dunif(0, 1)\n",
    "  mu ~ dnorm(0, 0.001)\n",
    "  sigma ~ dunif(0, 100)\n",
    "  b0 ~ dnorm(0, 0.001)\n",
    "  b1 ~ dnorm(0, 0.001)\n",
    "  a0 ~ dnorm(0, 0.001)\n",
    "  a1 ~ dnorm(0, 0.001)\n",
    "\n",
    "  for(site in 1:n.sites) {\n",
    "    for(time in 1:(n.years - 1)) {\n",
    "      l.gamma[site, time] = b0 + b1 * connectivity[site]\n",
    "      logit(gamma[site, time]) = l.gamma[site, time]\n",
    "      l.epsilon[site, time] = a0 + a1 * length[site]\n",
    "      logit(epsilon[site, time]) = l.epsilon[site, time]\n",
    "    }\n",
    "  }\n",
    "   \n",
    "  # Likelihood\n",
    "  for(site in 1:n.sites){\n",
    "    z[site, 1] ~ dbern(psi1)\n",
    "    for(year in 2:n.years) {      \n",
    "      z[site, year] ~ dbern(\n",
    "        (1 - z[site, year - 1]) * gamma[site, year - 1] + z[site, year - 1] * (1 - epsilon[site, year - 1])\n",
    "      )\n",
    "    }\n",
    "  }\n",
    "\n",
    "  for(site in 1:n.sites) {\n",
    "    for(year in 1:n.years) {\n",
    "      q[site, year] ~ dnorm(mu, sigma^(-2))\n",
    "      logit(p[site, year]) = q[site, year]\n",
    "      y[site, year] ~ dbin(p[site, year] * z[site, year], visits[site, year])\n",
    "    }\n",
    "  }\n",
    "  \n",
    "  for(year in 1:n.years){\n",
    "    propocc[year] <- sum(z[, year]) / n.sites   \n",
    "  }\n",
    "}\n",
    "\",fill = TRUE)\n",
    "sink()"
   ]
  },
  {
   "cell_type": "code",
   "execution_count": 41,
   "id": "64d5fd38",
   "metadata": {},
   "outputs": [],
   "source": [
    "visits = as.matrix(voles[,c(\"j1\", \"j2\", \"j3\", \"j4\")])\n",
    "y = as.matrix(voles[, c(\"y1\", \"y2\", \"y3\", \"y4\")])"
   ]
  },
  {
   "cell_type": "code",
   "execution_count": 51,
   "id": "fbdd0801",
   "metadata": {},
   "outputs": [
    {
     "name": "stdout",
     "output_type": "stream",
     "text": [
      "\n",
      "Processing function input....... \n",
      "\n",
      "Done. \n",
      " \n",
      "Compiling model graph\n",
      "   Resolving undeclared variables\n",
      "Deleting model\n",
      "\n"
     ]
    },
    {
     "ename": "ERROR",
     "evalue": "Error in jags.model(file = model.file, data = data, inits = inits, n.chains = n.chains, : RUNTIME ERROR:\nCompilation error on line 34.\nUnknown variable time\nEither supply values for this variable with the data\nor define it  on the left hand side of a relation.\n\n\n",
     "output_type": "error",
     "traceback": [
      "Error in jags.model(file = model.file, data = data, inits = inits, n.chains = n.chains, : RUNTIME ERROR:\nCompilation error on line 34.\nUnknown variable time\nEither supply values for this variable with the data\nor define it  on the left hand side of a relation.\n\n\nTraceback:\n",
      "1. jags(data = volesdata, inits = volesinits, parameters.to.save = volesparams, \n .     model.file = \"voles.txt\", n.chains = nc, n.iter = ni, n.burnin = nb, \n .     n.thin = nt)",
      "2. run.model(model.file, data, inits, parameters.to.save, n.chains, \n .     n.iter, n.burnin, n.thin, n.adapt, verbose = verbose)",
      "3. jags.model(file = model.file, data = data, inits = inits, n.chains = n.chains, \n .     n.adapt = 0)"
     ]
    }
   ],
   "source": [
    "# Bundle data\n",
    "volesdata <- list(\n",
    "    y = y,\n",
    "    n.years = 4,\n",
    "    n.sites = nrow(voles),\n",
    "    visits = visits,\n",
    "    connectivity = voles$Connectivity,\n",
    "    length = voles$Length\n",
    ")\n",
    "\n",
    "volesinits <- function() {\n",
    "  list(psi1 = runif(1, 0, 1),\n",
    "       mu = runif(1, 0, 5),\n",
    "       sigma = runif(1, 0, 1),\n",
    "       b0 = runif(1, -2, 2),\n",
    "       b1 = runif(1, -2, 2),\n",
    "       a0 = runif(1, -2, 2),\n",
    "       a1 = runif(1, -2, 2))\n",
    "}\n",
    "\n",
    "# Parameters monitored\n",
    "volesparams <- c(\"gamma\", \"epsilon\", \"p\", \"propocc\", \n",
    "                 \"Chi2.obs\", \"Chi2.sim\", \"FT.obs\", \"FT.sim\")\n",
    "\n",
    "# MCMC settings\n",
    "ni <- 5000\n",
    "nt <- 4\n",
    "nb <- 1000\n",
    "nc <- 3\n",
    "\n",
    "volesout <- jags(\n",
    "    data = volesdata,\n",
    "    inits = volesinits,\n",
    "    parameters.to.save = volesparams,\n",
    "    model.file = \"voles.txt\",\n",
    "    n.chains = nc,\n",
    "    n.iter = ni,\n",
    "    n.burnin = nb,\n",
    "    n.thin = nt\n",
    ")"
   ]
  },
  {
   "cell_type": "code",
   "execution_count": 49,
   "id": "eacec623",
   "metadata": {},
   "outputs": [
    {
     "data": {
      "text/html": [
       "114"
      ],
      "text/latex": [
       "114"
      ],
      "text/markdown": [
       "114"
      ],
      "text/plain": [
       "[1] 114"
      ]
     },
     "metadata": {},
     "output_type": "display_data"
    }
   ],
   "source": [
    "nrow(voles)"
   ]
  }
 ],
 "metadata": {
  "kernelspec": {
   "display_name": "R",
   "language": "R",
   "name": "ir"
  },
  "language_info": {
   "codemirror_mode": "r",
   "file_extension": ".r",
   "mimetype": "text/x-r-source",
   "name": "R",
   "pygments_lexer": "r",
   "version": "4.1.0"
  }
 },
 "nbformat": 4,
 "nbformat_minor": 5
}
